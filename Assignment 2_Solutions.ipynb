{
 "cells": [
  {
   "cell_type": "markdown",
   "metadata": {},
   "source": [
    "# Task 1:\n",
    "#### 1.1 Write a Python Program to implement your own myreduce() function which works exactly like Python's built-in function reduce()"
   ]
  },
  {
   "cell_type": "code",
   "execution_count": 35,
   "metadata": {},
   "outputs": [
    {
     "name": "stdout",
     "output_type": "stream",
     "text": [
      "Total output: 50\n",
      "Multiplication output: 725760\n"
     ]
    }
   ],
   "source": [
    "l=[1,4,3,6,7,2,10,9,8]\n",
    "\n",
    "#Addition operation\n",
    "\n",
    "def add(x):\n",
    "    total = 0\n",
    "    for i in range(len(x)):\n",
    "        total = total + x[i]\n",
    "    return total\n",
    "\n",
    "#Multiplication\n",
    "\n",
    "def mul(x):\n",
    "    product = 1\n",
    "    for i in range(len(x)):\n",
    "        product = product * x[i]\n",
    "    return product\n",
    "\n",
    "#Main reduce function\n",
    "\n",
    "def myreduce(func,li):\n",
    "    return func(li)\n",
    "\n",
    "sumoutput = myreduce(add,l)\n",
    "muloutput = myreduce(mul,l)\n",
    "print(f'Total output: {sumoutput}')\n",
    "print(f'Multiplication output: {muloutput}')\n",
    "#print(tupleoutput)"
   ]
  },
  {
   "cell_type": "markdown",
   "metadata": {},
   "source": [
    "#### 1.2 Write a Python program to implement your own myfilter() function which works exactly like Python's built-in function filter()"
   ]
  },
  {
   "cell_type": "code",
   "execution_count": 37,
   "metadata": {},
   "outputs": [
    {
     "name": "stdout",
     "output_type": "stream",
     "text": [
      "Even numbers from given input: [4, 6, 2, 10, 8]\n",
      "Odd numbers from given input: [1, 3, 7, 9]\n"
     ]
    }
   ],
   "source": [
    "l=[1,4,3,6,7,2,10,9,8]\n",
    "#Finding the even numbers function\n",
    "\n",
    "def evennumbers(x):\n",
    "    m = []\n",
    "    for i in x:\n",
    "        if i%2 == 0:\n",
    "            m.append(i)\n",
    "    return m\n",
    "\n",
    "#Finding the odd numbers function\n",
    "\n",
    "def oddnumbers(x):\n",
    "    m = []\n",
    "    for i in x:\n",
    "        if i%2 != 0:\n",
    "            m.append(i)\n",
    "    return m\n",
    "\n",
    "#Main myfilter() function\n",
    "def myfilter(func,li):\n",
    "    return func(li)\n",
    "\n",
    "even_ = myfilter(evennumbers,l)\n",
    "odd_ = myfilter(oddnumbers, l)\n",
    "print(f'Even numbers from given input: {even_}')\n",
    "print(f'Odd numbers from given input: {odd_}')"
   ]
  },
  {
   "cell_type": "markdown",
   "metadata": {},
   "source": [
    "#### 2. Implement List comprehensions to produce the following lists. Write List comprehensions to produce the following Lists\n",
    "#### ['A', 'C', 'A', 'D', 'G', 'I', ’L’, ‘ D’]\n",
    "#### ['x', 'xx', 'xxx', 'xxxx', 'y', 'yy', 'yyy', 'yyyy', 'z', 'zz', 'zzz', 'zzzz']\n",
    "#### ['x', 'y', 'z', 'xx', 'yy', 'zz', 'xx', 'yy', 'zz', 'xxxx', 'yyyy', 'zzzz']\n",
    "#### [[2], [3], [4], [3], [4], [5], [4], [5], [6]]\n",
    "#### [[2, 3, 4, 5], [3, 4, 5, 6], [4, 5, 6, 7], [5, 6, 7, 8]]\n",
    "#### [(1, 1), (2, 1), (3, 1), (1, 2), (2, 2), (3, 2), (1, 3), (2, 3), (3, 3)]"
   ]
  },
  {
   "cell_type": "code",
   "execution_count": 95,
   "metadata": {},
   "outputs": [
    {
     "name": "stdout",
     "output_type": "stream",
     "text": [
      "['A', 'C', 'A', 'D', 'G', 'I', 'L', 'D']\n",
      "['x', 'xx', 'xxx', 'xxxx', 'y', 'yy', 'yyy', 'yyyy', 'z', 'zz', 'zzz', 'zzzz']\n",
      "['x', 'y', 'z', 'xx', 'yy', 'zz', 'xxx', 'yyy', 'zzz', 'xxxx', 'yyyy', 'zzzz']\n",
      "[[2], [3], [4], [3], [4], [5], [4], [5], [6]]\n",
      "[[2, 3, 4, 5], [3, 4, 5, 6], [4, 5, 6, 7], [5, 6, 7, 8]]\n",
      "[(1, 1), (2, 1), (3, 1), (1, 2), (2, 2), (3, 2), (1, 3), (2, 3), (3, 3)]\n"
     ]
    }
   ],
   "source": [
    "#printing ['A', 'C', 'A', 'D', 'G', 'I', ’L’, ‘ D’] through list comprehension\n",
    "print([i for i in 'ACADGILD'])\n",
    "\n",
    "#printing ['x', 'xx', 'xxx', 'xxxx', 'y', 'yy', 'yyy', 'yyyy', 'z', 'zz', 'zzz', 'zzzz']\n",
    "print([j*i for j in 'xyz' for i in range(1,5)])\n",
    "\n",
    "#printing ['x', 'y', 'z', 'xx', 'yy', 'zz', 'xx', 'yy', 'zz', 'xxxx', 'yyyy', 'zzzz']\n",
    "print([j*i for i in range(1,5) for j in 'xyz'])\n",
    "\n",
    "#printing [[2], [3], [4], [3], [4], [5], [4], [5], [6]]\n",
    "print([[i] for i in [2,3,4,3,4,5,4,5,6]])\n",
    "\n",
    "#printing [[2, 3, 4, 5], [3, 4, 5, 6], [4, 5, 6, 7], [5, 6, 7, 8]]\n",
    "print([[i for i in range(2,6)],[j for j in range(3,7)], [k for k in range(4,8)], [l for l in range(5,9)]])\n",
    "\n",
    "#printing [(1, 1), (2, 1), (3, 1), (1, 2), (2, 2), (3, 2), (1, 3), (2, 3), (3, 3)]\n",
    "print([(j,i) for i in [1,2,3] for j in [1,2,3]])"
   ]
  },
  {
   "cell_type": "markdown",
   "metadata": {},
   "source": [
    "#### 3. Implement a function longestWord() that takes a list of words and returns the longest one.\n"
   ]
  },
  {
   "cell_type": "code",
   "execution_count": 97,
   "metadata": {},
   "outputs": [
    {
     "name": "stdout",
     "output_type": "stream",
     "text": [
      "praveen Kumar\n"
     ]
    }
   ],
   "source": [
    "def longestWord(l):\n",
    "    m = [len(i) for i in l]\n",
    "    for i in l:\n",
    "        if (len(i)==max(m)):\n",
    "            print(i)\n",
    "            break\n",
    "longestWord(['Hi','Hello','praveen Kumar','world'])"
   ]
  },
  {
   "cell_type": "markdown",
   "metadata": {},
   "source": [
    "# Task 2: "
   ]
  },
  {
   "cell_type": "markdown",
   "metadata": {},
   "source": [
    "#### 1.1 Write a Python Program(with class concepts) to find the area of the triangle using the below formula. \n",
    "#### area = (s*(s-a)*(s-b)*(s-c)) ** 0.5 Function to take the length of the sides of triangle from user should be defined in the parent class and function to calculate the area should be defined in subclass.\n"
   ]
  },
  {
   "cell_type": "code",
   "execution_count": 98,
   "metadata": {},
   "outputs": [
    {
     "name": "stdout",
     "output_type": "stream",
     "text": [
      "Enter the sides of a triangle: 4,5,6\n",
      "Area of the triangle for given user inputs is: 9.921567416492215\n"
     ]
    }
   ],
   "source": [
    "class triangle():\n",
    "    def sides(self):\n",
    "        a, b, c = input(\"Enter the sides of a triangle: \").split(',')\n",
    "        self.a = int(a)\n",
    "        self.b = int(b)\n",
    "        self.c = int(c)\n",
    "        \n",
    "class child(triangle):\n",
    "    def __init__(self):\n",
    "        triangle.sides(self)\n",
    "    def area(self):\n",
    "        s = ( self.a +  self.b + self.c ) / 2\n",
    "        return (s*(s-self.a)*(s-self.b)*(s-self.c))**0.5\n",
    "if __name__=='__main__':\n",
    "    result = child()\n",
    "    print(f'Area of the triangle for given user inputs is: {result.area()}')\n",
    "    "
   ]
  },
  {
   "cell_type": "markdown",
   "metadata": {},
   "source": [
    "#### 1.2 Write a function filter_long_words() that takes a list of words and an integer n and returns the list of words that are longer than n."
   ]
  },
  {
   "cell_type": "code",
   "execution_count": 99,
   "metadata": {},
   "outputs": [
    {
     "name": "stdout",
     "output_type": "stream",
     "text": [
      "Welcome\n",
      "triangle\n",
      "inputs\n"
     ]
    }
   ],
   "source": [
    "def filter_long_words(l,n):\n",
    "    for i in l:\n",
    "        if len(i) > n:\n",
    "            print(i)\n",
    "        else:\n",
    "            continue\n",
    "filter_long_words([\"Hi\",\"Hello\",\"world\",\"Welcome\"],5)\n",
    "filter_long_words([\"Area\",\"of\",\"the\",\"triangle\",\"for\",\"given\",\"user\",\"inputs\",\"is\"],5)"
   ]
  },
  {
   "cell_type": "markdown",
   "metadata": {},
   "source": [
    "#### 2.1 Write a Python program using function concept that maps list of words into a list of integers representing the lengths of the corresponding words. Hint: If a list [ ab,cde,erty] is passed on to the python function output should come as [2,3,4] Here 2,3 and 4 are the lengths of the words in the list"
   ]
  },
  {
   "cell_type": "code",
   "execution_count": 100,
   "metadata": {},
   "outputs": [
    {
     "name": "stdout",
     "output_type": "stream",
     "text": [
      "Integers list for given ['ab','cde','erty'] list of words : [2, 3, 4]\n",
      "Integers list for given ['Hi','Hello','World'] list of words: [2, 5, 5]\n"
     ]
    }
   ],
   "source": [
    "def maps(l):\n",
    "    m = []\n",
    "    for i in list(l):\n",
    "        m.append(len(i))\n",
    "    return m\n",
    "\n",
    "result = maps(['ab','cde','erty'])\n",
    "print(f\"Integers list for given ['ab','cde','erty'] list of words : {result}\")  \n",
    "print(f\"Integers list for given ['Hi','Hello','World'] list of words: {maps(['Hi','Hello','World'])}\")  "
   ]
  },
  {
   "cell_type": "markdown",
   "metadata": {},
   "source": [
    "#### 2.2 Write a Python function which takes a character (i.e. a string of length 1) and returns True if it is a vowel, False otherwise."
   ]
  },
  {
   "cell_type": "code",
   "execution_count": 88,
   "metadata": {},
   "outputs": [
    {
     "name": "stdout",
     "output_type": "stream",
     "text": [
      "A is vowel: True\n",
      "B is vowel: False\n",
      "a is vowel: True\n",
      "e is vowel: True\n"
     ]
    }
   ],
   "source": [
    "def is_Vowel(k):\n",
    "    if k in ['a','A','e','E','i','I','o','O','u','U']:\n",
    "        return True\n",
    "    else :\n",
    "        return False\n",
    "\n",
    "print(f'A is vowel: {is_Vowel(\"A\")}')\n",
    "print(f'B is vowel: {is_Vowel(\"B\")}')\n",
    "print(f'a is vowel: {is_Vowel(\"a\")}')\n",
    "print(f'e is vowel: {is_Vowel(\"e\")}')"
   ]
  }
 ],
 "metadata": {
  "kernelspec": {
   "display_name": "Python 3",
   "language": "python",
   "name": "python3"
  },
  "language_info": {
   "codemirror_mode": {
    "name": "ipython",
    "version": 3
   },
   "file_extension": ".py",
   "mimetype": "text/x-python",
   "name": "python",
   "nbconvert_exporter": "python",
   "pygments_lexer": "ipython3",
   "version": "3.7.3"
  }
 },
 "nbformat": 4,
 "nbformat_minor": 2
}
